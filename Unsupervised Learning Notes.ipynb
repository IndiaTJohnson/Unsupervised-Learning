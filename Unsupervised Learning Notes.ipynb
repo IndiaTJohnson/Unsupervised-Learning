{
 "cells": [
  {
   "cell_type": "markdown",
   "id": "c9067ba1-cb21-4be3-9b1e-e9319d7bace5",
   "metadata": {},
   "source": [
    "# Kmean Clustering"
   ]
  },
  {
   "cell_type": "markdown",
   "id": "ed0da341-657d-42a6-a580-4ca8d5b439b9",
   "metadata": {},
   "source": [
    "## Must scale data for Kmeans Clustering"
   ]
  },
  {
   "cell_type": "code",
   "execution_count": null,
   "id": "758b7956-26d7-4d80-bad3-0dc7c7ea2087",
   "metadata": {},
   "outputs": [],
   "source": [
    "# Imports\n",
    "import numpy as np\n",
    "import pandas as pd\n",
    "import matplotlib.pyplot as plt\n",
    "from sklearn.preprocessing import StandardScaler\n",
    "from sklearn.cluster import KMeans\n"
   ]
  },
  {
   "cell_type": "code",
   "execution_count": null,
   "id": "b36960f8-f778-471b-9991-265ca553a456",
   "metadata": {},
   "outputs": [],
   "source": [
    "wine = pd.read_csv('https://assets.codingdojo.com/boomyeah2015/codingdojo/curriculum/content/chapter/1613254703__modified_wine.csv')\n",
    "df = wine[['malic_acid', 'flavanoids']]\n",
    "df.head()\n"
   ]
  },
  {
   "cell_type": "code",
   "execution_count": null,
   "id": "ff47b523-9e88-4f0a-a9be-c08d73fdf23a",
   "metadata": {},
   "outputs": [],
   "source": [
    "# Instantiate Standard Scaler\n",
    "scaler = StandardScaler()\n",
    "# Fit & transform data.\n",
    "scaled_df = scaler.fit_transform(df)\n",
    "\n"
   ]
  },
  {
   "cell_type": "code",
   "execution_count": null,
   "id": "a80063b4-50c4-43e2-b84c-d603720d67be",
   "metadata": {},
   "outputs": [],
   "source": [
    "# Visualize data\n",
    "plt.scatter(df['malic_acid'], df['flavanoids'])\n",
    "plt.xlabel('Malic Acid')\n",
    "plt.ylabel('Flavanoids');\n"
   ]
  },
  {
   "cell_type": "code",
   "execution_count": null,
   "id": "f6ad1fb1-47dd-4f11-9bd0-435355c19a5c",
   "metadata": {},
   "outputs": [],
   "source": [
    "# Instantiate KMeans\n",
    "kmeans = KMeans(n_clusters = 2, n_init = 'auto', random_state = 42)\n",
    "kmeans.fit(scaled_df)\n",
    "\n"
   ]
  },
  {
   "cell_type": "code",
   "execution_count": null,
   "id": "9b6fcb56-d138-401a-9c62-8d31469781e5",
   "metadata": {},
   "outputs": [],
   "source": [
    "# Save the cluster labels to the dataframe \n",
    "df['cluster'] = kmeans.labels_\n",
    "# Visualize the clusters\n",
    "plt.scatter(df['malic_acid'], df['flavanoids'], c = df['cluster'])\n",
    "plt.xlabel('Malic Acid')\n",
    "plt.ylabel('Flavanoids')\n",
    "plt.title('Clusters of Wine Varieties');\n"
   ]
  },
  {
   "cell_type": "markdown",
   "id": "f31464b4-e64e-4422-b7d3-3cdc1fa0a558",
   "metadata": {},
   "source": [
    "# Clustering Metrics"
   ]
  },
  {
   "cell_type": "code",
   "execution_count": null,
   "id": "725daed3-2d37-47d0-9679-b00da6f93ac9",
   "metadata": {},
   "outputs": [],
   "source": [
    "# Imports\n",
    "import numpy as np\n",
    "import matplotlib.pyplot as plt\n",
    "import pandas as pd\n",
    "from sklearn.preprocessing import StandardScaler\n",
    "from sklearn.cluster import KMeans\n",
    "from sklearn.metrics import silhouette_score\n"
   ]
  },
  {
   "cell_type": "code",
   "execution_count": null,
   "id": "301ad7a0-23b9-453e-b239-1b64c54233ef",
   "metadata": {},
   "outputs": [],
   "source": [
    "wine = pd.read_csv('https://assets.codingdojo.com/boomyeah2015/codingdojo/curriculum/content/chapter/1613254703__modified_wine.csv')\n",
    "df = wine[['malic_acid', 'flavanoids']]\n",
    "df.head()\n",
    "\n"
   ]
  },
  {
   "cell_type": "code",
   "execution_count": null,
   "id": "1fd5a02c-341b-4baf-adce-3fec9e742f54",
   "metadata": {},
   "outputs": [],
   "source": [
    "# Instantiate Standard Scaler\n",
    "scaler = StandardScaler()\n",
    "# Fit & transform data.\n",
    "scaled_df = scaler.fit_transform(df)\n"
   ]
  },
  {
   "cell_type": "code",
   "execution_count": null,
   "id": "56263341-157b-49ee-bc66-c5478dae5ede",
   "metadata": {},
   "outputs": [],
   "source": [
    "#Create an empty list of inertias\n",
    "inertias = []\n",
    "#Loop through k values between 2 and 10 and store the inertias in the list.\n",
    "for k in range(2,11):\n",
    "    kmeans = KMeans(n_clusters=k, n_init = 'auto', random_state = 42)  \n",
    "    kmeans.fit(scaled_df)  \n",
    "    inertias.append(kmeans.inertia_)\n",
    "#Visualize scores\n",
    "plt.plot(range(2,11), inertias, marker = '.')\n",
    "plt.xlabel('clusters')\n",
    "plt.ylabel('inertia')\n",
    "\n"
   ]
  },
  {
   "cell_type": "code",
   "execution_count": null,
   "id": "f6646918-8fbb-4f39-8117-244ff5f1aeac",
   "metadata": {},
   "outputs": [],
   "source": [
    "# Visualize different silhouette scores\n",
    "# Save silhouette scores for various cluster numbers in list\n",
    "silhouette_scores = []\n",
    "for i in range(2, 11):\n",
    "  kmeans = KMeans(n_clusters = i, n_init = 'auto', random_state = 42)\n",
    "  kmeans.fit(scaled_df)\n",
    "  silhouette_scores.append(silhouette_score(scaled_df, kmeans.labels_))\n",
    "# Visualize scores\n",
    "plt.plot(range(2, 11), silhouette_scores, marker = '.')\n",
    "plt.xlabel('Number of Clusters')\n",
    "plt.ylabel('Silhouette Score');\n",
    "\n"
   ]
  },
  {
   "cell_type": "code",
   "execution_count": null,
   "id": "8630cb38-888d-438a-8fe2-125f5d18edb4",
   "metadata": {},
   "outputs": [],
   "source": [
    "# Fit kmeans model with 2 clusters and display the silhouette score\n",
    "kmeans = KMeans(n_clusters = 2, n_init = 'auto', random_state = 42)\n",
    "kmeans.fit(scaled_df)\n",
    "silhouette_score(scaled_df, kmeans.labels_)\n"
   ]
  },
  {
   "cell_type": "code",
   "execution_count": null,
   "id": "012147db-53e4-49f7-ac80-fcb5a0d82203",
   "metadata": {},
   "outputs": [],
   "source": [
    "# Fit 2 different KMeans models, one with 2 clusters and one with 3 clusters\n",
    "kmeans2 = KMeans(n_clusters = 2, random_state=42)\n",
    "kmeans3 = KMeans(n_clusters = 3, random_state=42)\n",
    "kmeans2.fit(scaled_df)\n",
    "kmeans3.fit(scaled_df)\n",
    "\n"
   ]
  },
  {
   "cell_type": "code",
   "execution_count": null,
   "id": "1fe64944-cbe0-402c-85bd-e29d3b9096ba",
   "metadata": {},
   "outputs": [],
   "source": [
    "# Save the cluster labels to the dataframe \n",
    "df['cluster2'] = kmeans2.labels_\n",
    "df['cluster3'] = kmeans3.labels_\n",
    "# Visualize the clusters\n",
    "fig, axes = plt.subplots(2,1, figsize=(5,8))\n",
    "axes[0].scatter(df['malic_acid'], df['flavanoids'], c = df['cluster2'])\n",
    "axes[0].set_xlabel('Malic Acid')\n",
    "axes[0].set_ylabel('Flavanoids')\n",
    "axes[0].set_title('KMeans 2 Clusters')\n",
    "axes[1].scatter(df['malic_acid'], df['flavanoids'], c = df['cluster3'])\n",
    "axes[1].set_xlabel('Malic Acid')\n",
    "axes[1].set_ylabel('Flavanoids')\n",
    "axes[1].set_title('KMeans 3 Clusters')\n",
    "plt.tight_layout();\n",
    "\n"
   ]
  },
  {
   "cell_type": "markdown",
   "id": "c8c0d137-b859-4f51-afdf-8042c0b07385",
   "metadata": {},
   "source": [
    "# Explanatory Analysis of KMeans Clusters"
   ]
  },
  {
   "cell_type": "code",
   "execution_count": null,
   "id": "08e93316-1d29-412e-b10e-daed755cd8cc",
   "metadata": {},
   "outputs": [],
   "source": [
    "import pandas as pd\n",
    "from sklearn.preprocessing import StandardScaler\n",
    "from sklearn.cluster import KMeans\n",
    "from sklearn.metrics import silhouette_score\n",
    "import matplotlib.pyplot as plt\n",
    "df = pd.read_csv('Country-data - Country-data.csv', index_col= 'country')\n",
    "df.head()\n",
    "\n"
   ]
  },
  {
   "cell_type": "code",
   "execution_count": null,
   "id": "80d31e64-d16f-49af-b567-e36a1298ee37",
   "metadata": {},
   "outputs": [],
   "source": [
    "print('Number of Duplicated Rows', df.duplicated().sum())\n",
    "print('\\n')\n",
    "df.info()\n",
    "\n"
   ]
  },
  {
   "cell_type": "code",
   "execution_count": null,
   "id": "250ebcd8-fb72-40a6-8f3d-fc259dab2949",
   "metadata": {},
   "outputs": [],
   "source": [
    "df.describe()\n"
   ]
  },
  {
   "cell_type": "code",
   "execution_count": null,
   "id": "3f56350b-59c0-47e3-a9b4-263f347d7f5e",
   "metadata": {},
   "outputs": [],
   "source": [
    "# Scale the data\n",
    "scaler = StandardScaler()\n",
    "X_scaled = pd.DataFrame(scaler.fit_transform(df), columns=df.columns)\n",
    "X_scaled.head()\n",
    "\n"
   ]
  },
  {
   "cell_type": "code",
   "execution_count": null,
   "id": "02dc311b-2392-40ab-8936-441700e725da",
   "metadata": {},
   "outputs": [],
   "source": [
    "# Iterate over a range of k clusters to find the optimal number of clusters\n",
    "ks = range(2,11)\n",
    "sils = []\n",
    "inertias = []\n",
    "for k in ks:\n",
    "  kmeans = KMeans(n_clusters=k, n_init = 'auto', random_state=42)\n",
    "  kmeans.fit(X_scaled)\n",
    "  sils.append(silhouette_score(X_scaled, kmeans.labels_))\n",
    "  inertias.append(kmeans.inertia_)\n",
    "#plot inertias and silhouette scores for each number of clusters.\n",
    "fig, axes = plt.subplots(1,2, figsize=(15,5))\n",
    "axes[0].plot(ks, sils)\n",
    "axes[0].set_title('Silhouette Scores')\n",
    "axes[0].set_xticks(ks)\n",
    "axes[1].plot(ks, inertias)\n",
    "axes[1].set_title('Inertia')\n",
    "axes[1].set_xticks(ks);\n",
    "\n"
   ]
  },
  {
   "cell_type": "code",
   "execution_count": null,
   "id": "3d04059c-c62e-4c6f-a6f7-957f74c32313",
   "metadata": {},
   "outputs": [],
   "source": [
    "# Refit KMeans with 4 clusters\n",
    "kmeans = KMeans(n_clusters=4, n_init= 'auto', random_state=42)\n",
    "kmeans.fit(X_scaled)\n",
    "# Add the clusters as a column in the dataframe\n",
    "df['cluster'] = kmeans.labels_\n",
    "df.head()\n"
   ]
  },
  {
   "cell_type": "code",
   "execution_count": null,
   "id": "1f4f8c24-5196-4669-9fb0-10df6ea6461b",
   "metadata": {},
   "outputs": [],
   "source": [
    "# Group the dataframe by cluster and aggregate by mean values\n",
    "# Add as_index=False so that the clusters are a column, not the index\n",
    "cluster_groups = df.groupby('cluster', as_index=False).mean()\n",
    "cluster_groups\n"
   ]
  },
  {
   "cell_type": "code",
   "execution_count": null,
   "id": "926fafcf-6fd3-4aa0-93de-3a9226d21f3e",
   "metadata": {},
   "outputs": [],
   "source": [
    "# Visualize means \n",
    "fig, axes = plt.subplots(3,4, figsize = (20, 10))\n",
    "# fig is an array of dimensions 3,4.  axes.ravel() will flatten it to 12,1\n",
    "axes = axes.ravel()\n",
    "# Loop over columns and plot each in a separate figure, skip 'cluster' column\n",
    "for i, col in enumerate(cluster_groups.columns[1:]):\n",
    "  axes[i].bar(cluster_groups['cluster'], cluster_groups[col])\n",
    "  axes[i].set_title(f'Mean {col}')\n",
    "\n"
   ]
  },
  {
   "cell_type": "code",
   "execution_count": null,
   "id": "234ed49d-4f1d-4318-a777-519cd7be23af",
   "metadata": {},
   "outputs": [],
   "source": [
    "df.loc[df['cluster']==1].index\n",
    "\n"
   ]
  },
  {
   "cell_type": "code",
   "execution_count": null,
   "id": "509f5043-bfa7-438e-acb3-74b7b2cf52bc",
   "metadata": {},
   "outputs": [],
   "source": []
  },
  {
   "cell_type": "code",
   "execution_count": null,
   "id": "3c4f5b3b-8776-411b-9a36-34d4de1570fd",
   "metadata": {},
   "outputs": [],
   "source": []
  },
  {
   "cell_type": "code",
   "execution_count": null,
   "id": "ead74246-1c75-496c-a536-bceb72865850",
   "metadata": {},
   "outputs": [],
   "source": []
  },
  {
   "cell_type": "code",
   "execution_count": null,
   "id": "1894e319-2f2d-49f3-8b10-485d1ddbe3ce",
   "metadata": {},
   "outputs": [],
   "source": []
  },
  {
   "cell_type": "code",
   "execution_count": null,
   "id": "53cb705d-7e3a-4368-8975-ef8d933c22a1",
   "metadata": {},
   "outputs": [],
   "source": []
  },
  {
   "cell_type": "code",
   "execution_count": null,
   "id": "de2f6e4f-2370-485c-89b7-623dc161317b",
   "metadata": {},
   "outputs": [],
   "source": []
  },
  {
   "cell_type": "code",
   "execution_count": null,
   "id": "602bc3f3-0915-4712-9321-ff33cdc1c99d",
   "metadata": {},
   "outputs": [],
   "source": []
  },
  {
   "cell_type": "code",
   "execution_count": null,
   "id": "5b18d47e-2577-4fef-ae83-aac2003b16aa",
   "metadata": {},
   "outputs": [],
   "source": []
  },
  {
   "cell_type": "code",
   "execution_count": null,
   "id": "e1950dd0-f755-4fe9-89ea-e3ec3979fc1c",
   "metadata": {},
   "outputs": [],
   "source": []
  },
  {
   "cell_type": "code",
   "execution_count": null,
   "id": "d024bf9e-9e0e-4304-9243-a0e7a95ea099",
   "metadata": {},
   "outputs": [],
   "source": []
  },
  {
   "cell_type": "code",
   "execution_count": null,
   "id": "a7012c6e-0d42-407d-a802-35d16e0cd354",
   "metadata": {},
   "outputs": [],
   "source": []
  },
  {
   "cell_type": "code",
   "execution_count": null,
   "id": "2b11da98-a75d-43e6-9d9b-5a3b31ac584f",
   "metadata": {},
   "outputs": [],
   "source": []
  },
  {
   "cell_type": "code",
   "execution_count": null,
   "id": "7c1fa1dc-7975-44ea-9443-032c9c7f2403",
   "metadata": {},
   "outputs": [],
   "source": []
  },
  {
   "cell_type": "code",
   "execution_count": null,
   "id": "acaa267f-8678-4808-9a01-0a39aec0b40d",
   "metadata": {},
   "outputs": [],
   "source": []
  },
  {
   "cell_type": "code",
   "execution_count": null,
   "id": "583b73f6-5013-4902-95e0-fb1ef3d8018e",
   "metadata": {},
   "outputs": [],
   "source": []
  }
 ],
 "metadata": {
  "kernelspec": {
   "display_name": "Python (dojo-env)",
   "language": "python",
   "name": "dojo-env"
  },
  "language_info": {
   "codemirror_mode": {
    "name": "ipython",
    "version": 3
   },
   "file_extension": ".py",
   "mimetype": "text/x-python",
   "name": "python",
   "nbconvert_exporter": "python",
   "pygments_lexer": "ipython3",
   "version": "3.10.10"
  }
 },
 "nbformat": 4,
 "nbformat_minor": 5
}
